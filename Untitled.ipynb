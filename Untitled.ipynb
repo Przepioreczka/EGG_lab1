{
 "cells": [
  {
   "cell_type": "code",
   "execution_count": 4,
   "metadata": {},
   "outputs": [],
   "source": [
    "import numpy as np\n",
    "import matplotlib.pyplot as plt\n",
    "import matplotlib\n",
    "import scipy.signal as sg\n",
    "from  scipy.signal import freqz, group_delay, firwin, firwin2, butter, buttord, lfilter, filtfilt"
   ]
  },
  {
   "cell_type": "code",
   "execution_count": 7,
   "metadata": {},
   "outputs": [
    {
     "name": "stdout",
     "output_type": "stream",
     "text": [
      "(79088, 26)\n"
     ]
    }
   ],
   "source": [
    "pliki = {'open':'mateusz_oczy_szeroko_zamkniete', 'closed':'mateusz_oczy_zamkniete', 'inne':'mateusz_try1'}\n",
    "\n",
    "ch = 26\n",
    "Fs = 256\n",
    "fin = open('mateusz_oczy_zamkniete.raw', 'rb') \n",
    "EEG = np.fromfile(fin, dtype='<f') \n",
    "fin.close() \n",
    "s = np.reshape(EEG,(len(EEG)//ch,ch))\n",
    "\n",
    "print(s.shape)"
   ]
  },
  {
   "cell_type": "code",
   "execution_count": null,
   "metadata": {},
   "outputs": [],
   "source": []
  }
 ],
 "metadata": {
  "kernelspec": {
   "display_name": "Python 3",
   "language": "python",
   "name": "python3"
  },
  "language_info": {
   "codemirror_mode": {
    "name": "ipython",
    "version": 3
   },
   "file_extension": ".py",
   "mimetype": "text/x-python",
   "name": "python",
   "nbconvert_exporter": "python",
   "pygments_lexer": "ipython3",
   "version": "3.6.8"
  }
 },
 "nbformat": 4,
 "nbformat_minor": 2
}
